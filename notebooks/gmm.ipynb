{
 "cells": [
  {
   "cell_type": "code",
   "execution_count": null,
   "metadata": {},
   "outputs": [],
   "source": [
    "import numpy as np\n",
    "import matplotlib.pyplot as plt\n",
    "from scipy.stats import multivariate_normal\n"
   ]
  },
  {
   "cell_type": "code",
   "execution_count": 14,
   "metadata": {},
   "outputs": [
    {
     "data": {
      "text/latex": [
       "$\\theta = \\{ \\mu_m,\\ \\Sigma_m,\\ \\pi_m \\} \\quad \\text{for each class } m$"
      ],
      "text/plain": [
       "<IPython.core.display.Latex object>"
      ]
     },
     "metadata": {},
     "output_type": "display_data"
    },
    {
     "data": {
      "text/latex": [
       "$\\hat{\\pi}_m = {\\dfrac {n_m} n} \\ \\text{priors}$"
      ],
      "text/plain": [
       "<IPython.core.display.Latex object>"
      ]
     },
     "metadata": {},
     "output_type": "display_data"
    }
   ],
   "source": [
    "from IPython.display import display, Latex\n",
    "# Display the GMM parameter definition\n",
    "display(Latex(r'$\\theta = \\{ \\mu_m,\\ \\Sigma_m,\\ \\pi_m \\} \\quad \\text{for each class } m$'))\n",
    "display(Latex(r'$\\hat{\\pi}_m = {\\dfrac {n_m} n} \\ \\text{priors}$'))\n"
   ]
  },
  {
   "cell_type": "code",
   "execution_count": null,
   "metadata": {},
   "outputs": [],
   "source": [
    "class GuassianMixtureModel:\n",
    "    def __init__(self, guassian_components: int):\n",
    "        self.n_components = guassian_components\n",
    "        self.means = None\n",
    "        self.covariances = None\n",
    "        self.priors = None\n",
    "        self.theta: dict = {}\n",
    "    \n",
    "    def plot_contours(self):\n",
    "        pass\n",
    "    \n",
    "    \n",
    "\n",
    "class SupervisedGMM(GuassianMixtureModel):\n",
    "    def fit(self, data, labels) -> None:\n",
    "        unique_labels = np.unique(labels)\n",
    "        self.means, self.covariances, self.priors = [],[],[]\n",
    "        for unique_class in unique_labels:\n",
    "            # boolean indexing to select specific data based on their class\n",
    "            X_group = data[labels == unique_class]\n",
    "            self.means = np.mean(X_group, axis=0)\n",
    "            # usually we do\n",
    "            # self.covariances = np.cov(X_group)\n",
    "            # But lets's do it according to our mathematical definition of covariance matrix for each class\n",
    "            \n",
    "            self.priors = len(X_group) / len(data)\n",
    "            \n",
    "    \n",
    "    def predict(self, X):\n",
    "        pass\n",
    "        "
   ]
  }
 ],
 "metadata": {
  "kernelspec": {
   "display_name": "Python 3",
   "language": "python",
   "name": "python3"
  },
  "language_info": {
   "codemirror_mode": {
    "name": "ipython",
    "version": 3
   },
   "file_extension": ".py",
   "mimetype": "text/x-python",
   "name": "python",
   "nbconvert_exporter": "python",
   "pygments_lexer": "ipython3",
   "version": "3.12.2"
  }
 },
 "nbformat": 4,
 "nbformat_minor": 2
}
